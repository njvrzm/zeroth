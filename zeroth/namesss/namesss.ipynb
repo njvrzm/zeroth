{
 "cells": [
  {
   "cell_type": "markdown",
   "metadata": {},
   "source": [
    "Intro goes here"
   ]
  }, 
  {
   "cell_type": "code",
   "execution_count": 1,
   "metadata": {},
   "outputs": [],
   "source": [
    "import requests\n",
    "\n",
    "baseUrl = 'https://www.ssa.gov/OACT/babynames/index.html'\n",
    "session = requests.session()\n",
    "response = session.get(baseUrl)"
   ]
  },
  {
   "cell_type": "code",
   "execution_count": 2,
   "metadata": {},
   "outputs": [
    {
     "data": {
      "text/plain": [
       "<form action=\"/cgi-bin/popularnames.cgi\" method=\"post\" name=\"popnames\" onsubmit=\"return submitIt();\">\n",
       "                <p>\n",
       "                  <input id=\"year\" maxlength=\"4\" name=\"year\" pattern=\"\\d{4}\" required=\"\" size=\"5\" style=\"width:100px\" title=\"Birth Year: Must be 4 numbers\" type=\"text\" value=\"2016\"/>\n",
       "                  <label for=\"year\" style=\"display:inline;\">  Birth Year</label><br/>\n",
       "                </p>\n",
       "                <p>\n",
       "                  <select id=\"rank\" name=\"top\" size=\"1\" style=\"width:100px\">\n",
       "                    <option value=\"20\">Top 20</option>\n",
       "                    <option value=\"50\">Top 50</option>\n",
       "                    <option value=\"100\">Top 100</option>\n",
       "                    <option value=\"500\">Top 500</option>\n",
       "                    <option value=\"1000\">Top 1000</option>\n",
       "                  </select>\n",
       "                  <label for=\"rank\" style=\"display:inline;\">  Popularity</label><br/>\n",
       "                </p>\n",
       "                <fieldset>\n",
       "                  <legend>Name rankings may include:</legend>\n",
       "                  <input id=\"percent\" name=\"number\" type=\"radio\" value=\"p\"/>\n",
       "                  <label for=\"percent\" style=\"display:inline;\">  Percent of total births</label><br/>\n",
       "                  <input id=\"number\" name=\"number\" type=\"radio\" value=\"n\"/>\n",
       "                  <label for=\"number\" style=\"display:inline;\">  Number of births</label>\n",
       "                </fieldset>\n",
       "                <p>\n",
       "                  <input type=\"submit\" value=\"  Go  \"/>\n",
       "                  <input type=\"reset\" value=\"Reset\"/>\n",
       "                </p>\n",
       "              </form>"
      ]
     },
     "execution_count": 2,
     "metadata": {},
     "output_type": "execute_result"
    }
   ],
   "source": [
    "from bs4 import BeautifulSoup\n",
    "soup = BeautifulSoup(response.text, 'html5lib')\n",
    "form = soup.find('form')\n",
    "form"
   ]
  },
  {
   "cell_type": "markdown",
   "metadata": {},
   "source": [
    "While putting together this post I wanted to have the html and javascript code I'm including here and there be highlighted. It took me a while to figure out how, but in the end [reading the docs](http://pygments.org/docs/quickstart/) ended up being the best solution. After a bit of fiddling I had [a utility function for highlighting various languages in jupyter notebooks](https://github.com/njvrzm/zeroth/blob/master/zeroth/utils/jupretty.py)."
   ]
  },
  {
   "cell_type": "code",
   "execution_count": 3,
   "metadata": {},
   "outputs": [
    {
     "data": {
      "text/html": [
       "<style>.highlight .hll { background-color: #ffffcc }\n",
       ".highlight  { background: #f8f8f8; }\n",
       ".highlight .c { color: #408080; font-style: italic } /* Comment */\n",
       ".highlight .err { border: 1px solid #FF0000 } /* Error */\n",
       ".highlight .k { color: #008000; font-weight: bold } /* Keyword */\n",
       ".highlight .o { color: #666666 } /* Operator */\n",
       ".highlight .ch { color: #408080; font-style: italic } /* Comment.Hashbang */\n",
       ".highlight .cm { color: #408080; font-style: italic } /* Comment.Multiline */\n",
       ".highlight .cp { color: #BC7A00 } /* Comment.Preproc */\n",
       ".highlight .cpf { color: #408080; font-style: italic } /* Comment.PreprocFile */\n",
       ".highlight .c1 { color: #408080; font-style: italic } /* Comment.Single */\n",
       ".highlight .cs { color: #408080; font-style: italic } /* Comment.Special */\n",
       ".highlight .gd { color: #A00000 } /* Generic.Deleted */\n",
       ".highlight .ge { font-style: italic } /* Generic.Emph */\n",
       ".highlight .gr { color: #FF0000 } /* Generic.Error */\n",
       ".highlight .gh { color: #000080; font-weight: bold } /* Generic.Heading */\n",
       ".highlight .gi { color: #00A000 } /* Generic.Inserted */\n",
       ".highlight .go { color: #888888 } /* Generic.Output */\n",
       ".highlight .gp { color: #000080; font-weight: bold } /* Generic.Prompt */\n",
       ".highlight .gs { font-weight: bold } /* Generic.Strong */\n",
       ".highlight .gu { color: #800080; font-weight: bold } /* Generic.Subheading */\n",
       ".highlight .gt { color: #0044DD } /* Generic.Traceback */\n",
       ".highlight .kc { color: #008000; font-weight: bold } /* Keyword.Constant */\n",
       ".highlight .kd { color: #008000; font-weight: bold } /* Keyword.Declaration */\n",
       ".highlight .kn { color: #008000; font-weight: bold } /* Keyword.Namespace */\n",
       ".highlight .kp { color: #008000 } /* Keyword.Pseudo */\n",
       ".highlight .kr { color: #008000; font-weight: bold } /* Keyword.Reserved */\n",
       ".highlight .kt { color: #B00040 } /* Keyword.Type */\n",
       ".highlight .m { color: #666666 } /* Literal.Number */\n",
       ".highlight .s { color: #BA2121 } /* Literal.String */\n",
       ".highlight .na { color: #7D9029 } /* Name.Attribute */\n",
       ".highlight .nb { color: #008000 } /* Name.Builtin */\n",
       ".highlight .nc { color: #0000FF; font-weight: bold } /* Name.Class */\n",
       ".highlight .no { color: #880000 } /* Name.Constant */\n",
       ".highlight .nd { color: #AA22FF } /* Name.Decorator */\n",
       ".highlight .ni { color: #999999; font-weight: bold } /* Name.Entity */\n",
       ".highlight .ne { color: #D2413A; font-weight: bold } /* Name.Exception */\n",
       ".highlight .nf { color: #0000FF } /* Name.Function */\n",
       ".highlight .nl { color: #A0A000 } /* Name.Label */\n",
       ".highlight .nn { color: #0000FF; font-weight: bold } /* Name.Namespace */\n",
       ".highlight .nt { color: #008000; font-weight: bold } /* Name.Tag */\n",
       ".highlight .nv { color: #19177C } /* Name.Variable */\n",
       ".highlight .ow { color: #AA22FF; font-weight: bold } /* Operator.Word */\n",
       ".highlight .w { color: #bbbbbb } /* Text.Whitespace */\n",
       ".highlight .mb { color: #666666 } /* Literal.Number.Bin */\n",
       ".highlight .mf { color: #666666 } /* Literal.Number.Float */\n",
       ".highlight .mh { color: #666666 } /* Literal.Number.Hex */\n",
       ".highlight .mi { color: #666666 } /* Literal.Number.Integer */\n",
       ".highlight .mo { color: #666666 } /* Literal.Number.Oct */\n",
       ".highlight .sa { color: #BA2121 } /* Literal.String.Affix */\n",
       ".highlight .sb { color: #BA2121 } /* Literal.String.Backtick */\n",
       ".highlight .sc { color: #BA2121 } /* Literal.String.Char */\n",
       ".highlight .dl { color: #BA2121 } /* Literal.String.Delimiter */\n",
       ".highlight .sd { color: #BA2121; font-style: italic } /* Literal.String.Doc */\n",
       ".highlight .s2 { color: #BA2121 } /* Literal.String.Double */\n",
       ".highlight .se { color: #BB6622; font-weight: bold } /* Literal.String.Escape */\n",
       ".highlight .sh { color: #BA2121 } /* Literal.String.Heredoc */\n",
       ".highlight .si { color: #BB6688; font-weight: bold } /* Literal.String.Interpol */\n",
       ".highlight .sx { color: #008000 } /* Literal.String.Other */\n",
       ".highlight .sr { color: #BB6688 } /* Literal.String.Regex */\n",
       ".highlight .s1 { color: #BA2121 } /* Literal.String.Single */\n",
       ".highlight .ss { color: #19177C } /* Literal.String.Symbol */\n",
       ".highlight .bp { color: #008000 } /* Name.Builtin.Pseudo */\n",
       ".highlight .fm { color: #0000FF } /* Name.Function.Magic */\n",
       ".highlight .vc { color: #19177C } /* Name.Variable.Class */\n",
       ".highlight .vg { color: #19177C } /* Name.Variable.Global */\n",
       ".highlight .vi { color: #19177C } /* Name.Variable.Instance */\n",
       ".highlight .vm { color: #19177C } /* Name.Variable.Magic */\n",
       ".highlight .il { color: #666666 } /* Literal.Number.Integer.Long */</style>"
      ],
      "text/plain": [
       "<IPython.core.display.HTML object>"
      ]
     },
     "metadata": {},
     "output_type": "display_data"
    },
    {
     "data": {
      "text/html": [
       "<div class=\"highlight\"><pre><span></span><span class=\"p\">&lt;</span><span class=\"nt\">form</span> <span class=\"na\">action</span><span class=\"o\">=</span><span class=\"s\">&quot;/cgi-bin/popularnames.cgi&quot;</span> <span class=\"na\">method</span><span class=\"o\">=</span><span class=\"s\">&quot;post&quot;</span> <span class=\"na\">name</span><span class=\"o\">=</span><span class=\"s\">&quot;popnames&quot;</span> <span class=\"na\">onsubmit</span><span class=\"o\">=</span><span class=\"s\">&quot;return submitIt();&quot;</span><span class=\"p\">&gt;</span>\n",
       "                <span class=\"p\">&lt;</span><span class=\"nt\">p</span><span class=\"p\">&gt;</span>\n",
       "                  <span class=\"p\">&lt;</span><span class=\"nt\">input</span> <span class=\"na\">id</span><span class=\"o\">=</span><span class=\"s\">&quot;year&quot;</span> <span class=\"na\">maxlength</span><span class=\"o\">=</span><span class=\"s\">&quot;4&quot;</span> <span class=\"na\">name</span><span class=\"o\">=</span><span class=\"s\">&quot;year&quot;</span> <span class=\"na\">pattern</span><span class=\"o\">=</span><span class=\"s\">&quot;\\d{4}&quot;</span> <span class=\"na\">required</span><span class=\"o\">=</span><span class=\"s\">&quot;&quot;</span> <span class=\"na\">size</span><span class=\"o\">=</span><span class=\"s\">&quot;5&quot;</span> <span class=\"na\">style</span><span class=\"o\">=</span><span class=\"s\">&quot;width:100px&quot;</span> <span class=\"na\">title</span><span class=\"o\">=</span><span class=\"s\">&quot;Birth Year: Must be 4 numbers&quot;</span> <span class=\"na\">type</span><span class=\"o\">=</span><span class=\"s\">&quot;text&quot;</span> <span class=\"na\">value</span><span class=\"o\">=</span><span class=\"s\">&quot;2016&quot;</span><span class=\"p\">/&gt;</span>\n",
       "                  <span class=\"p\">&lt;</span><span class=\"nt\">label</span> <span class=\"na\">for</span><span class=\"o\">=</span><span class=\"s\">&quot;year&quot;</span> <span class=\"na\">style</span><span class=\"o\">=</span><span class=\"s\">&quot;display:inline;&quot;</span><span class=\"p\">&gt;</span>  Birth Year<span class=\"p\">&lt;/</span><span class=\"nt\">label</span><span class=\"p\">&gt;&lt;</span><span class=\"nt\">br</span><span class=\"p\">/&gt;</span>\n",
       "                <span class=\"p\">&lt;/</span><span class=\"nt\">p</span><span class=\"p\">&gt;</span>\n",
       "                <span class=\"p\">&lt;</span><span class=\"nt\">p</span><span class=\"p\">&gt;</span>\n",
       "                  <span class=\"p\">&lt;</span><span class=\"nt\">select</span> <span class=\"na\">id</span><span class=\"o\">=</span><span class=\"s\">&quot;rank&quot;</span> <span class=\"na\">name</span><span class=\"o\">=</span><span class=\"s\">&quot;top&quot;</span> <span class=\"na\">size</span><span class=\"o\">=</span><span class=\"s\">&quot;1&quot;</span> <span class=\"na\">style</span><span class=\"o\">=</span><span class=\"s\">&quot;width:100px&quot;</span><span class=\"p\">&gt;</span>\n",
       "                    <span class=\"p\">&lt;</span><span class=\"nt\">option</span> <span class=\"na\">value</span><span class=\"o\">=</span><span class=\"s\">&quot;20&quot;</span><span class=\"p\">&gt;</span>Top 20<span class=\"p\">&lt;/</span><span class=\"nt\">option</span><span class=\"p\">&gt;</span>\n",
       "                    <span class=\"p\">&lt;</span><span class=\"nt\">option</span> <span class=\"na\">value</span><span class=\"o\">=</span><span class=\"s\">&quot;50&quot;</span><span class=\"p\">&gt;</span>Top 50<span class=\"p\">&lt;/</span><span class=\"nt\">option</span><span class=\"p\">&gt;</span>\n",
       "                    <span class=\"p\">&lt;</span><span class=\"nt\">option</span> <span class=\"na\">value</span><span class=\"o\">=</span><span class=\"s\">&quot;100&quot;</span><span class=\"p\">&gt;</span>Top 100<span class=\"p\">&lt;/</span><span class=\"nt\">option</span><span class=\"p\">&gt;</span>\n",
       "                    <span class=\"p\">&lt;</span><span class=\"nt\">option</span> <span class=\"na\">value</span><span class=\"o\">=</span><span class=\"s\">&quot;500&quot;</span><span class=\"p\">&gt;</span>Top 500<span class=\"p\">&lt;/</span><span class=\"nt\">option</span><span class=\"p\">&gt;</span>\n",
       "                    <span class=\"p\">&lt;</span><span class=\"nt\">option</span> <span class=\"na\">value</span><span class=\"o\">=</span><span class=\"s\">&quot;1000&quot;</span><span class=\"p\">&gt;</span>Top 1000<span class=\"p\">&lt;/</span><span class=\"nt\">option</span><span class=\"p\">&gt;</span>\n",
       "                  <span class=\"p\">&lt;/</span><span class=\"nt\">select</span><span class=\"p\">&gt;</span>\n",
       "                  <span class=\"p\">&lt;</span><span class=\"nt\">label</span> <span class=\"na\">for</span><span class=\"o\">=</span><span class=\"s\">&quot;rank&quot;</span> <span class=\"na\">style</span><span class=\"o\">=</span><span class=\"s\">&quot;display:inline;&quot;</span><span class=\"p\">&gt;</span>  Popularity<span class=\"p\">&lt;/</span><span class=\"nt\">label</span><span class=\"p\">&gt;&lt;</span><span class=\"nt\">br</span><span class=\"p\">/&gt;</span>\n",
       "                <span class=\"p\">&lt;/</span><span class=\"nt\">p</span><span class=\"p\">&gt;</span>\n",
       "                <span class=\"p\">&lt;</span><span class=\"nt\">fieldset</span><span class=\"p\">&gt;</span>\n",
       "                  <span class=\"p\">&lt;</span><span class=\"nt\">legend</span><span class=\"p\">&gt;</span>Name rankings may include:<span class=\"p\">&lt;/</span><span class=\"nt\">legend</span><span class=\"p\">&gt;</span>\n",
       "                  <span class=\"p\">&lt;</span><span class=\"nt\">input</span> <span class=\"na\">id</span><span class=\"o\">=</span><span class=\"s\">&quot;percent&quot;</span> <span class=\"na\">name</span><span class=\"o\">=</span><span class=\"s\">&quot;number&quot;</span> <span class=\"na\">type</span><span class=\"o\">=</span><span class=\"s\">&quot;radio&quot;</span> <span class=\"na\">value</span><span class=\"o\">=</span><span class=\"s\">&quot;p&quot;</span><span class=\"p\">/&gt;</span>\n",
       "                  <span class=\"p\">&lt;</span><span class=\"nt\">label</span> <span class=\"na\">for</span><span class=\"o\">=</span><span class=\"s\">&quot;percent&quot;</span> <span class=\"na\">style</span><span class=\"o\">=</span><span class=\"s\">&quot;display:inline;&quot;</span><span class=\"p\">&gt;</span>  Percent of total births<span class=\"p\">&lt;/</span><span class=\"nt\">label</span><span class=\"p\">&gt;&lt;</span><span class=\"nt\">br</span><span class=\"p\">/&gt;</span>\n",
       "                  <span class=\"p\">&lt;</span><span class=\"nt\">input</span> <span class=\"na\">id</span><span class=\"o\">=</span><span class=\"s\">&quot;number&quot;</span> <span class=\"na\">name</span><span class=\"o\">=</span><span class=\"s\">&quot;number&quot;</span> <span class=\"na\">type</span><span class=\"o\">=</span><span class=\"s\">&quot;radio&quot;</span> <span class=\"na\">value</span><span class=\"o\">=</span><span class=\"s\">&quot;n&quot;</span><span class=\"p\">/&gt;</span>\n",
       "                  <span class=\"p\">&lt;</span><span class=\"nt\">label</span> <span class=\"na\">for</span><span class=\"o\">=</span><span class=\"s\">&quot;number&quot;</span> <span class=\"na\">style</span><span class=\"o\">=</span><span class=\"s\">&quot;display:inline;&quot;</span><span class=\"p\">&gt;</span>  Number of births<span class=\"p\">&lt;/</span><span class=\"nt\">label</span><span class=\"p\">&gt;</span>\n",
       "                <span class=\"p\">&lt;/</span><span class=\"nt\">fieldset</span><span class=\"p\">&gt;</span>\n",
       "                <span class=\"p\">&lt;</span><span class=\"nt\">p</span><span class=\"p\">&gt;</span>\n",
       "                  <span class=\"p\">&lt;</span><span class=\"nt\">input</span> <span class=\"na\">type</span><span class=\"o\">=</span><span class=\"s\">&quot;submit&quot;</span> <span class=\"na\">value</span><span class=\"o\">=</span><span class=\"s\">&quot;  Go  &quot;</span><span class=\"p\">/&gt;</span>\n",
       "                  <span class=\"p\">&lt;</span><span class=\"nt\">input</span> <span class=\"na\">type</span><span class=\"o\">=</span><span class=\"s\">&quot;reset&quot;</span> <span class=\"na\">value</span><span class=\"o\">=</span><span class=\"s\">&quot;Reset&quot;</span><span class=\"p\">/&gt;</span>\n",
       "                <span class=\"p\">&lt;/</span><span class=\"nt\">p</span><span class=\"p\">&gt;</span>\n",
       "              <span class=\"p\">&lt;/</span><span class=\"nt\">form</span><span class=\"p\">&gt;</span>\n",
       "</pre></div>\n"
      ],
      "text/plain": [
       "<IPython.core.display.HTML object>"
      ]
     },
     "metadata": {},
     "output_type": "display_data"
    }
   ],
   "source": [
    "from zeroth.utils import pretty\n",
    "\n",
    "pretty(str(form), 'html')"
   ]
  },
  {
   "cell_type": "markdown",
   "metadata": {},
   "source": [
    "Notice that the form has a javascript submitter - we'll want to check if that does anything important before going on."
   ]
  },
  {
   "cell_type": "code",
   "execution_count": 4,
   "metadata": {},
   "outputs": [
    {
     "data": {
      "text/plain": [
       "[<script src=\"/framework/js/ssa.internet.head.js\"></script>,\n",
       " <script src=\"chkinput.js\"></script>,\n",
       " <script src=\"/framework/js/ssa.internet.body.js\"></script>]"
      ]
     },
     "execution_count": 4,
     "metadata": {},
     "output_type": "execute_result"
    }
   ],
   "source": [
    "scripts = soup.findAll('script')\n",
    "scripts"
   ]
  },
  {
   "cell_type": "markdown",
   "metadata": {},
   "source": [
    "\"chkinput.js\" sounds promising..."
   ]
  },
  {
   "cell_type": "code",
   "execution_count": 5,
   "metadata": {},
   "outputs": [
    {
     "data": {
      "text/plain": [
       "'https://www.ssa.gov/OACT/babynames/chkinput.js'"
      ]
     },
     "execution_count": 5,
     "metadata": {},
     "output_type": "execute_result"
    }
   ],
   "source": [
    "import urllib\n",
    "script_url = urllib.parse.urljoin(baseUrl, scripts[1]['src'])\n",
    "script_url"
   ]
  },
  {
   "cell_type": "code",
   "execution_count": 6,
   "metadata": {},
   "outputs": [
    {
     "data": {
      "text/html": [
       "<div class=\"highlight\"><pre><span></span><span class=\"c1\">// submitIt used by form for top N names and tests for valid year</span>\n",
       "<span class=\"kd\">function</span> <span class=\"nx\">submitIt</span><span class=\"p\">()</span> <span class=\"p\">{</span>\n",
       " <span class=\"k\">if</span><span class=\"p\">(</span><span class=\"nx\">IsNum</span><span class=\"p\">(</span><span class=\"nb\">document</span><span class=\"p\">.</span><span class=\"nx\">popnames</span><span class=\"p\">.</span><span class=\"nx\">year</span><span class=\"p\">.</span><span class=\"nx\">value</span><span class=\"p\">))</span> <span class=\"p\">{</span>\n",
       "   <span class=\"nx\">alert</span><span class=\"p\">(</span><span class=\"s2\">&quot;Use numeric characters only!&quot;</span><span class=\"p\">)</span>\n",
       "   <span class=\"nb\">document</span><span class=\"p\">.</span><span class=\"nx\">popnames</span><span class=\"p\">.</span><span class=\"nx\">year</span><span class=\"p\">.</span><span class=\"nx\">focus</span><span class=\"p\">()</span>\n",
       "   <span class=\"nb\">document</span><span class=\"p\">.</span><span class=\"nx\">popnames</span><span class=\"p\">.</span><span class=\"nx\">year</span><span class=\"p\">.</span><span class=\"nx\">select</span><span class=\"p\">()</span>\n",
       "   <span class=\"k\">return</span> <span class=\"kc\">false</span>\n",
       " <span class=\"p\">}</span> \n",
       "<span class=\"p\">}</span>\n",
       "\n",
       "<span class=\"c1\">// submitBaby used by form for a given baby name and</span>\n",
       "<span class=\"c1\">// test for valid name &amp; valid number of years</span>\n",
       "<span class=\"kd\">function</span> <span class=\"nx\">submitBaby</span><span class=\"p\">()</span> <span class=\"p\">{</span>\n",
       " <span class=\"k\">if</span><span class=\"p\">(</span><span class=\"nx\">IsNum</span><span class=\"p\">(</span><span class=\"nb\">document</span><span class=\"p\">.</span><span class=\"nx\">babyname</span><span class=\"p\">.</span><span class=\"nx\">nyrs</span><span class=\"p\">.</span><span class=\"nx\">value</span><span class=\"p\">))</span> <span class=\"p\">{</span>\n",
       "   <span class=\"nx\">alert</span><span class=\"p\">(</span><span class=\"s2\">&quot;Use numeric characters only!&quot;</span><span class=\"p\">)</span>\n",
       "   <span class=\"nb\">document</span><span class=\"p\">.</span><span class=\"nx\">babyname</span><span class=\"p\">.</span><span class=\"nx\">nyrs</span><span class=\"p\">.</span><span class=\"nx\">focus</span><span class=\"p\">()</span>\n",
       "   <span class=\"nb\">document</span><span class=\"p\">.</span><span class=\"nx\">babyname</span><span class=\"p\">.</span><span class=\"nx\">nyrs</span><span class=\"p\">.</span><span class=\"nx\">select</span><span class=\"p\">()</span>\n",
       "   <span class=\"k\">return</span> <span class=\"kc\">false</span>\n",
       " <span class=\"p\">}</span>\n",
       " \n",
       " <span class=\"k\">if</span><span class=\"p\">(</span><span class=\"nx\">IsName</span><span class=\"p\">(</span><span class=\"nb\">document</span><span class=\"p\">.</span><span class=\"nx\">babyname</span><span class=\"p\">.</span><span class=\"nx\">name</span><span class=\"p\">.</span><span class=\"nx\">value</span><span class=\"p\">))</span> <span class=\"p\">{</span>\n",
       "   <span class=\"nx\">alert</span><span class=\"p\">(</span><span class=\"s2\">&quot;Use alphabetic characters only!&quot;</span><span class=\"p\">)</span>\n",
       "   <span class=\"nb\">document</span><span class=\"p\">.</span><span class=\"nx\">babyname</span><span class=\"p\">.</span><span class=\"nx\">name</span><span class=\"p\">.</span><span class=\"nx\">focus</span><span class=\"p\">()</span>\n",
       "   <span class=\"nb\">document</span><span class=\"p\">.</span><span class=\"nx\">babyname</span><span class=\"p\">.</span><span class=\"nx\">name</span><span class=\"p\">.</span><span class=\"nx\">select</span><span class=\"p\">()</span>\n",
       "   <span class=\"k\">return</span> <span class=\"kc\">false</span>\n",
       " <span class=\"p\">}</span>  \n",
       "<span class=\"p\">}</span>\n",
       "\n",
       "<span class=\"kd\">function</span> <span class=\"nx\">IsNum</span><span class=\"p\">(</span><span class=\"nx\">u</span><span class=\"p\">)</span> <span class=\"p\">{</span>\n",
       "<span class=\"c1\">// var num is set as non-digit</span>\n",
       "   <span class=\"kd\">var</span> <span class=\"nx\">num</span> <span class=\"o\">=</span> <span class=\"sr\">/\\D/</span><span class=\"p\">;</span>\n",
       "   <span class=\"k\">return</span> <span class=\"nx\">num</span><span class=\"p\">.</span><span class=\"nx\">test</span><span class=\"p\">(</span><span class=\"nx\">u</span><span class=\"p\">);</span>\n",
       "<span class=\"p\">}</span>\n",
       "\n",
       "<span class=\"kd\">function</span> <span class=\"nx\">IsName</span><span class=\"p\">(</span><span class=\"nx\">u</span><span class=\"p\">)</span> <span class=\"p\">{</span>\n",
       "<span class=\"c1\">// var alpha is set as non-alphanumeric</span>\n",
       "   <span class=\"kd\">var</span> <span class=\"nx\">alpha</span> <span class=\"o\">=</span> <span class=\"sr\">/\\W/</span><span class=\"p\">;</span>\n",
       "   <span class=\"k\">return</span> <span class=\"nx\">alpha</span><span class=\"p\">.</span><span class=\"nx\">test</span><span class=\"p\">(</span><span class=\"nx\">u</span><span class=\"p\">);</span>\n",
       "<span class=\"p\">}</span>\n",
       "</pre></div>\n"
      ],
      "text/plain": [
       "<IPython.core.display.HTML object>"
      ]
     },
     "metadata": {},
     "output_type": "display_data"
    }
   ],
   "source": [
    "pretty(session.get(script_url).text, 'javascript')"
   ]
  },
  {
   "cell_type": "markdown",
   "metadata": {},
   "source": [
    "Ok, `submitIt` just does validation. We can ignore that. So, back to the form:"
   ]
  },
  {
   "cell_type": "code",
   "execution_count": 7,
   "metadata": {
    "scrolled": true
   },
   "outputs": [
    {
     "data": {
      "text/html": [
       "<div class=\"highlight\"><pre><span></span><span class=\"p\">&lt;</span><span class=\"nt\">form</span> <span class=\"na\">action</span><span class=\"o\">=</span><span class=\"s\">&quot;/cgi-bin/popularnames.cgi&quot;</span> <span class=\"na\">method</span><span class=\"o\">=</span><span class=\"s\">&quot;post&quot;</span> <span class=\"na\">name</span><span class=\"o\">=</span><span class=\"s\">&quot;popnames&quot;</span> <span class=\"na\">onsubmit</span><span class=\"o\">=</span><span class=\"s\">&quot;return submitIt();&quot;</span><span class=\"p\">&gt;</span>\n",
       "                <span class=\"p\">&lt;</span><span class=\"nt\">p</span><span class=\"p\">&gt;</span>\n",
       "                  <span class=\"p\">&lt;</span><span class=\"nt\">input</span> <span class=\"na\">id</span><span class=\"o\">=</span><span class=\"s\">&quot;year&quot;</span> <span class=\"na\">maxlength</span><span class=\"o\">=</span><span class=\"s\">&quot;4&quot;</span> <span class=\"na\">name</span><span class=\"o\">=</span><span class=\"s\">&quot;year&quot;</span> <span class=\"na\">pattern</span><span class=\"o\">=</span><span class=\"s\">&quot;\\d{4}&quot;</span> <span class=\"na\">required</span><span class=\"o\">=</span><span class=\"s\">&quot;&quot;</span> <span class=\"na\">size</span><span class=\"o\">=</span><span class=\"s\">&quot;5&quot;</span> <span class=\"na\">style</span><span class=\"o\">=</span><span class=\"s\">&quot;width:100px&quot;</span> <span class=\"na\">title</span><span class=\"o\">=</span><span class=\"s\">&quot;Birth Year: Must be 4 numbers&quot;</span> <span class=\"na\">type</span><span class=\"o\">=</span><span class=\"s\">&quot;text&quot;</span> <span class=\"na\">value</span><span class=\"o\">=</span><span class=\"s\">&quot;2016&quot;</span><span class=\"p\">/&gt;</span>\n",
       "                  <span class=\"p\">&lt;</span><span class=\"nt\">label</span> <span class=\"na\">for</span><span class=\"o\">=</span><span class=\"s\">&quot;year&quot;</span> <span class=\"na\">style</span><span class=\"o\">=</span><span class=\"s\">&quot;display:inline;&quot;</span><span class=\"p\">&gt;</span>  Birth Year<span class=\"p\">&lt;/</span><span class=\"nt\">label</span><span class=\"p\">&gt;&lt;</span><span class=\"nt\">br</span><span class=\"p\">/&gt;</span>\n",
       "                <span class=\"p\">&lt;/</span><span class=\"nt\">p</span><span class=\"p\">&gt;</span>\n",
       "                <span class=\"p\">&lt;</span><span class=\"nt\">p</span><span class=\"p\">&gt;</span>\n",
       "                  <span class=\"p\">&lt;</span><span class=\"nt\">select</span> <span class=\"na\">id</span><span class=\"o\">=</span><span class=\"s\">&quot;rank&quot;</span> <span class=\"na\">name</span><span class=\"o\">=</span><span class=\"s\">&quot;top&quot;</span> <span class=\"na\">size</span><span class=\"o\">=</span><span class=\"s\">&quot;1&quot;</span> <span class=\"na\">style</span><span class=\"o\">=</span><span class=\"s\">&quot;width:100px&quot;</span><span class=\"p\">&gt;</span>\n",
       "                    <span class=\"p\">&lt;</span><span class=\"nt\">option</span> <span class=\"na\">value</span><span class=\"o\">=</span><span class=\"s\">&quot;20&quot;</span><span class=\"p\">&gt;</span>Top 20<span class=\"p\">&lt;/</span><span class=\"nt\">option</span><span class=\"p\">&gt;</span>\n",
       "                    <span class=\"p\">&lt;</span><span class=\"nt\">option</span> <span class=\"na\">value</span><span class=\"o\">=</span><span class=\"s\">&quot;50&quot;</span><span class=\"p\">&gt;</span>Top 50<span class=\"p\">&lt;/</span><span class=\"nt\">option</span><span class=\"p\">&gt;</span>\n",
       "                    <span class=\"p\">&lt;</span><span class=\"nt\">option</span> <span class=\"na\">value</span><span class=\"o\">=</span><span class=\"s\">&quot;100&quot;</span><span class=\"p\">&gt;</span>Top 100<span class=\"p\">&lt;/</span><span class=\"nt\">option</span><span class=\"p\">&gt;</span>\n",
       "                    <span class=\"p\">&lt;</span><span class=\"nt\">option</span> <span class=\"na\">value</span><span class=\"o\">=</span><span class=\"s\">&quot;500&quot;</span><span class=\"p\">&gt;</span>Top 500<span class=\"p\">&lt;/</span><span class=\"nt\">option</span><span class=\"p\">&gt;</span>\n",
       "                    <span class=\"p\">&lt;</span><span class=\"nt\">option</span> <span class=\"na\">value</span><span class=\"o\">=</span><span class=\"s\">&quot;1000&quot;</span><span class=\"p\">&gt;</span>Top 1000<span class=\"p\">&lt;/</span><span class=\"nt\">option</span><span class=\"p\">&gt;</span>\n",
       "                  <span class=\"p\">&lt;/</span><span class=\"nt\">select</span><span class=\"p\">&gt;</span>\n",
       "                  <span class=\"p\">&lt;</span><span class=\"nt\">label</span> <span class=\"na\">for</span><span class=\"o\">=</span><span class=\"s\">&quot;rank&quot;</span> <span class=\"na\">style</span><span class=\"o\">=</span><span class=\"s\">&quot;display:inline;&quot;</span><span class=\"p\">&gt;</span>  Popularity<span class=\"p\">&lt;/</span><span class=\"nt\">label</span><span class=\"p\">&gt;&lt;</span><span class=\"nt\">br</span><span class=\"p\">/&gt;</span>\n",
       "                <span class=\"p\">&lt;/</span><span class=\"nt\">p</span><span class=\"p\">&gt;</span>\n",
       "                <span class=\"p\">&lt;</span><span class=\"nt\">fieldset</span><span class=\"p\">&gt;</span>\n",
       "                  <span class=\"p\">&lt;</span><span class=\"nt\">legend</span><span class=\"p\">&gt;</span>Name rankings may include:<span class=\"p\">&lt;/</span><span class=\"nt\">legend</span><span class=\"p\">&gt;</span>\n",
       "                  <span class=\"p\">&lt;</span><span class=\"nt\">input</span> <span class=\"na\">id</span><span class=\"o\">=</span><span class=\"s\">&quot;percent&quot;</span> <span class=\"na\">name</span><span class=\"o\">=</span><span class=\"s\">&quot;number&quot;</span> <span class=\"na\">type</span><span class=\"o\">=</span><span class=\"s\">&quot;radio&quot;</span> <span class=\"na\">value</span><span class=\"o\">=</span><span class=\"s\">&quot;p&quot;</span><span class=\"p\">/&gt;</span>\n",
       "                  <span class=\"p\">&lt;</span><span class=\"nt\">label</span> <span class=\"na\">for</span><span class=\"o\">=</span><span class=\"s\">&quot;percent&quot;</span> <span class=\"na\">style</span><span class=\"o\">=</span><span class=\"s\">&quot;display:inline;&quot;</span><span class=\"p\">&gt;</span>  Percent of total births<span class=\"p\">&lt;/</span><span class=\"nt\">label</span><span class=\"p\">&gt;&lt;</span><span class=\"nt\">br</span><span class=\"p\">/&gt;</span>\n",
       "                  <span class=\"p\">&lt;</span><span class=\"nt\">input</span> <span class=\"na\">id</span><span class=\"o\">=</span><span class=\"s\">&quot;number&quot;</span> <span class=\"na\">name</span><span class=\"o\">=</span><span class=\"s\">&quot;number&quot;</span> <span class=\"na\">type</span><span class=\"o\">=</span><span class=\"s\">&quot;radio&quot;</span> <span class=\"na\">value</span><span class=\"o\">=</span><span class=\"s\">&quot;n&quot;</span><span class=\"p\">/&gt;</span>\n",
       "                  <span class=\"p\">&lt;</span><span class=\"nt\">label</span> <span class=\"na\">for</span><span class=\"o\">=</span><span class=\"s\">&quot;number&quot;</span> <span class=\"na\">style</span><span class=\"o\">=</span><span class=\"s\">&quot;display:inline;&quot;</span><span class=\"p\">&gt;</span>  Number of births<span class=\"p\">&lt;/</span><span class=\"nt\">label</span><span class=\"p\">&gt;</span>\n",
       "                <span class=\"p\">&lt;/</span><span class=\"nt\">fieldset</span><span class=\"p\">&gt;</span>\n",
       "                <span class=\"p\">&lt;</span><span class=\"nt\">p</span><span class=\"p\">&gt;</span>\n",
       "                  <span class=\"p\">&lt;</span><span class=\"nt\">input</span> <span class=\"na\">type</span><span class=\"o\">=</span><span class=\"s\">&quot;submit&quot;</span> <span class=\"na\">value</span><span class=\"o\">=</span><span class=\"s\">&quot;  Go  &quot;</span><span class=\"p\">/&gt;</span>\n",
       "                  <span class=\"p\">&lt;</span><span class=\"nt\">input</span> <span class=\"na\">type</span><span class=\"o\">=</span><span class=\"s\">&quot;reset&quot;</span> <span class=\"na\">value</span><span class=\"o\">=</span><span class=\"s\">&quot;Reset&quot;</span><span class=\"p\">/&gt;</span>\n",
       "                <span class=\"p\">&lt;/</span><span class=\"nt\">p</span><span class=\"p\">&gt;</span>\n",
       "              <span class=\"p\">&lt;/</span><span class=\"nt\">form</span><span class=\"p\">&gt;</span>\n",
       "</pre></div>\n"
      ],
      "text/plain": [
       "<IPython.core.display.HTML object>"
      ]
     },
     "metadata": {},
     "output_type": "display_data"
    }
   ],
   "source": [
    "pretty(str(form), 'html')"
   ]
  },
  {
   "cell_type": "markdown",
   "metadata": {},
   "source": [
    "We need to find the action url for the form and all the parameters to send. In this case the parameters all come from `input` and `select` elements."
   ]
  },
  {
   "cell_type": "code",
   "execution_count": 8,
   "metadata": {
    "scrolled": true
   },
   "outputs": [
    {
     "name": "stdout",
     "output_type": "stream",
     "text": [
      "https://www.ssa.gov/cgi-bin/popularnames.cgi\n"
     ]
    }
   ],
   "source": [
    "action = urllib.parse.urljoin(baseUrl, form['action'])\n",
    "print(action)"
   ]
  },
  {
   "cell_type": "code",
   "execution_count": 9,
   "metadata": {},
   "outputs": [
    {
     "data": {
      "text/plain": [
       "[<input id=\"year\" maxlength=\"4\" name=\"year\" pattern=\"\\d{4}\" required=\"\" size=\"5\" style=\"width:100px\" title=\"Birth Year: Must be 4 numbers\" type=\"text\" value=\"2016\"/>,\n",
       " <input id=\"percent\" name=\"number\" type=\"radio\" value=\"p\"/>,\n",
       " <input id=\"number\" name=\"number\" type=\"radio\" value=\"n\"/>,\n",
       " <input type=\"submit\" value=\"  Go  \"/>,\n",
       " <input type=\"reset\" value=\"Reset\"/>]"
      ]
     },
     "execution_count": 9,
     "metadata": {},
     "output_type": "execute_result"
    }
   ],
   "source": [
    "form.findAll('input')"
   ]
  },
  {
   "cell_type": "code",
   "execution_count": 10,
   "metadata": {
    "scrolled": true
   },
   "outputs": [
    {
     "data": {
      "text/plain": [
       "[<select id=\"rank\" name=\"top\" size=\"1\" style=\"width:100px\">\n",
       "                     <option value=\"20\">Top 20</option>\n",
       "                     <option value=\"50\">Top 50</option>\n",
       "                     <option value=\"100\">Top 100</option>\n",
       "                     <option value=\"500\">Top 500</option>\n",
       "                     <option value=\"1000\">Top 1000</option>\n",
       "                   </select>]"
      ]
     },
     "execution_count": 10,
     "metadata": {},
     "output_type": "execute_result"
    }
   ],
   "source": [
    "form.findAll('select')"
   ]
  },
  {
   "cell_type": "markdown",
   "metadata": {},
   "source": [
    "So for our post data we need a `year` from 1880 to 2016, a `number` with value either \"n\" or \"p\", and a `top` with value 20, 50, 100, 500 or 1000. Later I'll want to get as much data as possible, but for now it'll be more convenient to examine the dataif we use 10 for `top`. I can see either number or percent being interesting but the former seems a bit more useful."
   ]
  },
  {
   "cell_type": "code",
   "execution_count": 11,
   "metadata": {},
   "outputs": [],
   "source": [
    "result = session.post(action, data = {'year': 1880, 'number': 'n', 'top': 10})\n",
    "page = BeautifulSoup(result.text, 'html5lib')"
   ]
  },
  {
   "cell_type": "markdown",
   "metadata": {},
   "source": [
    "From having looked at the page in the browser,it's clear the data is being presented as a table, but if you didn't have that to go by it's still a pretty good bet."
   ]
  },
  {
   "cell_type": "code",
   "execution_count": 12,
   "metadata": {},
   "outputs": [],
   "source": [
    "tables = page.findAll('table')"
   ]
  },
  {
   "cell_type": "code",
   "execution_count": 13,
   "metadata": {},
   "outputs": [
    {
     "data": {
      "text/plain": [
       "4"
      ]
     },
     "execution_count": 13,
     "metadata": {},
     "output_type": "execute_result"
    }
   ],
   "source": [
    "len(tables)"
   ]
  },
  {
   "cell_type": "code",
   "execution_count": 14,
   "metadata": {},
   "outputs": [
    {
     "data": {
      "text/plain": [
       "[(0, 357), (1, 2578), (2, 1778), (3, 499)]"
      ]
     },
     "execution_count": 14,
     "metadata": {},
     "output_type": "execute_result"
    }
   ],
   "source": [
    "[(i, len(str(table))) for i, table in enumerate(tables)]"
   ]
  },
  {
   "cell_type": "markdown",
   "metadata": {},
   "source": [
    "Even with just ten rows, our target is almost certainly one of the two bigger tables. My intuition is that the larger big one is probably just a formatting wrapper around the smaller big one, so let's look at the third table."
   ]
  },
  {
   "cell_type": "code",
   "execution_count": 15,
   "metadata": {
    "scrolled": true
   },
   "outputs": [
    {
     "data": {
      "text/html": [
       "<div class=\"highlight\"><pre><span></span><span class=\"p\">&lt;</span><span class=\"nt\">table</span> <span class=\"na\">border</span><span class=\"o\">=</span><span class=\"s\">&quot;1&quot;</span> <span class=\"na\">bordercolor</span><span class=\"o\">=</span><span class=\"s\">&quot;#aaaabb&quot;</span> <span class=\"na\">cellpadding</span><span class=\"o\">=</span><span class=\"s\">&quot;2&quot;</span> <span class=\"na\">cellspacing</span><span class=\"o\">=</span><span class=\"s\">&quot;0&quot;</span> <span class=\"na\">summary</span><span class=\"o\">=</span><span class=\"s\">&quot;Popularity for top 10&quot;</span> <span class=\"na\">width</span><span class=\"o\">=</span><span class=\"s\">&quot;72%&quot;</span><span class=\"p\">&gt;&lt;</span><span class=\"nt\">caption</span><span class=\"p\">&gt;&lt;</span><span class=\"nt\">b</span><span class=\"p\">&gt;</span>Popularity in 1880<span class=\"p\">&lt;/</span><span class=\"nt\">b</span><span class=\"p\">&gt;&lt;/</span><span class=\"nt\">caption</span><span class=\"p\">&gt;</span>\n",
       "<span class=\"p\">&lt;</span><span class=\"nt\">tbody</span><span class=\"p\">&gt;&lt;</span><span class=\"nt\">tr</span> <span class=\"na\">align</span><span class=\"o\">=</span><span class=\"s\">&quot;center&quot;</span> <span class=\"na\">valign</span><span class=\"o\">=</span><span class=\"s\">&quot;bottom&quot;</span><span class=\"p\">&gt;</span>\n",
       "  <span class=\"p\">&lt;</span><span class=\"nt\">th</span> <span class=\"na\">bgcolor</span><span class=\"o\">=</span><span class=\"s\">&quot;#eeeeee&quot;</span> <span class=\"na\">scope</span><span class=\"o\">=</span><span class=\"s\">&quot;col&quot;</span> <span class=\"na\">width</span><span class=\"o\">=</span><span class=\"s\">&quot;12%&quot;</span><span class=\"p\">&gt;</span>Rank<span class=\"p\">&lt;/</span><span class=\"nt\">th</span><span class=\"p\">&gt;</span>\n",
       "  <span class=\"p\">&lt;</span><span class=\"nt\">th</span> <span class=\"na\">bgcolor</span><span class=\"o\">=</span><span class=\"s\">&quot;#99ccff&quot;</span> <span class=\"na\">scope</span><span class=\"o\">=</span><span class=\"s\">&quot;col&quot;</span> <span class=\"na\">width</span><span class=\"o\">=</span><span class=\"s\">&quot;22%&quot;</span><span class=\"p\">&gt;</span>Male name<span class=\"p\">&lt;/</span><span class=\"nt\">th</span><span class=\"p\">&gt;</span>\n",
       "<span class=\"p\">&lt;</span><span class=\"nt\">th</span> <span class=\"na\">bgcolor</span><span class=\"o\">=</span><span class=\"s\">&quot;#99ccff&quot;</span> <span class=\"na\">scope</span><span class=\"o\">=</span><span class=\"s\">&quot;col&quot;</span> <span class=\"na\">width</span><span class=\"o\">=</span><span class=\"s\">&quot;22%&quot;</span><span class=\"p\">&gt;</span>Number of<span class=\"p\">&lt;</span><span class=\"nt\">br</span><span class=\"p\">/&gt;</span> males<span class=\"p\">&lt;/</span><span class=\"nt\">th</span><span class=\"p\">&gt;</span>\n",
       "<span class=\"p\">&lt;</span><span class=\"nt\">th</span> <span class=\"na\">bgcolor</span><span class=\"o\">=</span><span class=\"s\">&quot;pink&quot;</span> <span class=\"na\">scope</span><span class=\"o\">=</span><span class=\"s\">&quot;col&quot;</span> <span class=\"na\">width</span><span class=\"o\">=</span><span class=\"s\">&quot;22%&quot;</span><span class=\"p\">&gt;</span>Female name<span class=\"p\">&lt;/</span><span class=\"nt\">th</span><span class=\"p\">&gt;</span>\n",
       "<span class=\"p\">&lt;</span><span class=\"nt\">th</span> <span class=\"na\">bgcolor</span><span class=\"o\">=</span><span class=\"s\">&quot;pink&quot;</span> <span class=\"na\">scope</span><span class=\"o\">=</span><span class=\"s\">&quot;col&quot;</span> <span class=\"na\">width</span><span class=\"o\">=</span><span class=\"s\">&quot;22%&quot;</span><span class=\"p\">&gt;</span>Number of<span class=\"p\">&lt;</span><span class=\"nt\">br</span><span class=\"p\">/&gt;</span> females<span class=\"p\">&lt;/</span><span class=\"nt\">th</span><span class=\"p\">&gt;&lt;/</span><span class=\"nt\">tr</span><span class=\"p\">&gt;</span>\n",
       "<span class=\"p\">&lt;</span><span class=\"nt\">tr</span> <span class=\"na\">align</span><span class=\"o\">=</span><span class=\"s\">&quot;right&quot;</span><span class=\"p\">&gt;</span>\n",
       " <span class=\"p\">&lt;</span><span class=\"nt\">td</span><span class=\"p\">&gt;</span>1<span class=\"p\">&lt;/</span><span class=\"nt\">td</span><span class=\"p\">&gt;</span> <span class=\"p\">&lt;</span><span class=\"nt\">td</span><span class=\"p\">&gt;</span>John<span class=\"p\">&lt;/</span><span class=\"nt\">td</span><span class=\"p\">&gt;&lt;</span><span class=\"nt\">td</span><span class=\"p\">&gt;</span>9,655<span class=\"p\">&lt;/</span><span class=\"nt\">td</span><span class=\"p\">&gt;</span>\n",
       " <span class=\"p\">&lt;</span><span class=\"nt\">td</span><span class=\"p\">&gt;</span>Mary<span class=\"p\">&lt;/</span><span class=\"nt\">td</span><span class=\"p\">&gt;</span>\n",
       "<span class=\"p\">&lt;</span><span class=\"nt\">td</span><span class=\"p\">&gt;</span>7,065<span class=\"p\">&lt;/</span><span class=\"nt\">td</span><span class=\"p\">&gt;</span>\n",
       "<span class=\"p\">&lt;/</span><span class=\"nt\">tr</span><span class=\"p\">&gt;</span>\n",
       "<span class=\"p\">&lt;</span><span class=\"nt\">tr</span> <span class=\"na\">align</span><span class=\"o\">=</span><span class=\"s\">&quot;right&quot;</span><span class=\"p\">&gt;</span>\n",
       " <span class=\"p\">&lt;</span><span class=\"nt\">td</span><span class=\"p\">&gt;</span>2<span class=\"p\">&lt;/</span><span class=\"nt\">td</span><span class=\"p\">&gt;</span> <span class=\"p\">&lt;</span><span class=\"nt\">td</span><span class=\"p\">&gt;</span>William<span class=\"p\">&lt;/</span><span class=\"nt\">td</span><span class=\"p\">&gt;&lt;</span><span class=\"nt\">td</span><span class=\"p\">&gt;</span>9,532<span class=\"p\">&lt;/</span><span class=\"nt\">td</span><span class=\"p\">&gt;</span>\n",
       " <span class=\"p\">&lt;</span><span class=\"nt\">td</span><span class=\"p\">&gt;</span>Anna<span class=\"p\">&lt;/</span><span class=\"nt\">td</span><span class=\"p\">&gt;</span>\n",
       "<span class=\"p\">&lt;</span><span class=\"nt\">td</span><span class=\"p\">&gt;</span>2,604<span class=\"p\">&lt;/</span><span class=\"nt\">td</span><span class=\"p\">&gt;</span>\n",
       "<span class=\"p\">&lt;/</span><span class=\"nt\">tr</span><span class=\"p\">&gt;</span>\n",
       "<span class=\"p\">&lt;</span><span class=\"nt\">tr</span> <span class=\"na\">align</span><span class=\"o\">=</span><span class=\"s\">&quot;right&quot;</span><span class=\"p\">&gt;</span>\n",
       " <span class=\"p\">&lt;</span><span class=\"nt\">td</span><span class=\"p\">&gt;</span>3<span class=\"p\">&lt;/</span><span class=\"nt\">td</span><span class=\"p\">&gt;</span> <span class=\"p\">&lt;</span><span class=\"nt\">td</span><span class=\"p\">&gt;</span>James<span class=\"p\">&lt;/</span><span class=\"nt\">td</span><span class=\"p\">&gt;&lt;</span><span class=\"nt\">td</span><span class=\"p\">&gt;</span>5,927<span class=\"p\">&lt;/</span><span class=\"nt\">td</span><span class=\"p\">&gt;</span>\n",
       " <span class=\"p\">&lt;</span><span class=\"nt\">td</span><span class=\"p\">&gt;</span>Emma<span class=\"p\">&lt;/</span><span class=\"nt\">td</span><span class=\"p\">&gt;</span>\n",
       "<span class=\"p\">&lt;</span><span class=\"nt\">td</span><span class=\"p\">&gt;</span>2,003<span class=\"p\">&lt;/</span><span class=\"nt\">td</span><span class=\"p\">&gt;</span>\n",
       "<span class=\"p\">&lt;/</span><span class=\"nt\">tr</span><span class=\"p\">&gt;</span>\n",
       "<span class=\"p\">&lt;</span><span class=\"nt\">tr</span> <span class=\"na\">align</span><span class=\"o\">=</span><span class=\"s\">&quot;right&quot;</span><span class=\"p\">&gt;</span>\n",
       " <span class=\"p\">&lt;</span><span class=\"nt\">td</span><span class=\"p\">&gt;</span>4<span class=\"p\">&lt;/</span><span class=\"nt\">td</span><span class=\"p\">&gt;</span> <span class=\"p\">&lt;</span><span class=\"nt\">td</span><span class=\"p\">&gt;</span>Charles<span class=\"p\">&lt;/</span><span class=\"nt\">td</span><span class=\"p\">&gt;&lt;</span><span class=\"nt\">td</span><span class=\"p\">&gt;</span>5,348<span class=\"p\">&lt;/</span><span class=\"nt\">td</span><span class=\"p\">&gt;</span>\n",
       " <span class=\"p\">&lt;</span><span class=\"nt\">td</span><span class=\"p\">&gt;</span>Elizabeth<span class=\"p\">&lt;/</span><span class=\"nt\">td</span><span class=\"p\">&gt;</span>\n",
       "<span class=\"p\">&lt;</span><span class=\"nt\">td</span><span class=\"p\">&gt;</span>1,939<span class=\"p\">&lt;/</span><span class=\"nt\">td</span><span class=\"p\">&gt;</span>\n",
       "<span class=\"p\">&lt;/</span><span class=\"nt\">tr</span><span class=\"p\">&gt;</span>\n",
       "<span class=\"p\">&lt;</span><span class=\"nt\">tr</span> <span class=\"na\">align</span><span class=\"o\">=</span><span class=\"s\">&quot;right&quot;</span><span class=\"p\">&gt;</span>\n",
       " <span class=\"p\">&lt;</span><span class=\"nt\">td</span><span class=\"p\">&gt;</span>5<span class=\"p\">&lt;/</span><span class=\"nt\">td</span><span class=\"p\">&gt;</span> <span class=\"p\">&lt;</span><span class=\"nt\">td</span><span class=\"p\">&gt;</span>George<span class=\"p\">&lt;/</span><span class=\"nt\">td</span><span class=\"p\">&gt;&lt;</span><span class=\"nt\">td</span><span class=\"p\">&gt;</span>5,126<span class=\"p\">&lt;/</span><span class=\"nt\">td</span><span class=\"p\">&gt;</span>\n",
       " <span class=\"p\">&lt;</span><span class=\"nt\">td</span><span class=\"p\">&gt;</span>Minnie<span class=\"p\">&lt;/</span><span class=\"nt\">td</span><span class=\"p\">&gt;</span>\n",
       "<span class=\"p\">&lt;</span><span class=\"nt\">td</span><span class=\"p\">&gt;</span>1,746<span class=\"p\">&lt;/</span><span class=\"nt\">td</span><span class=\"p\">&gt;</span>\n",
       "<span class=\"p\">&lt;/</span><span class=\"nt\">tr</span><span class=\"p\">&gt;</span>\n",
       "<span class=\"p\">&lt;</span><span class=\"nt\">tr</span> <span class=\"na\">align</span><span class=\"o\">=</span><span class=\"s\">&quot;right&quot;</span><span class=\"p\">&gt;</span>\n",
       " <span class=\"p\">&lt;</span><span class=\"nt\">td</span><span class=\"p\">&gt;</span>6<span class=\"p\">&lt;/</span><span class=\"nt\">td</span><span class=\"p\">&gt;</span> <span class=\"p\">&lt;</span><span class=\"nt\">td</span><span class=\"p\">&gt;</span>Frank<span class=\"p\">&lt;/</span><span class=\"nt\">td</span><span class=\"p\">&gt;&lt;</span><span class=\"nt\">td</span><span class=\"p\">&gt;</span>3,242<span class=\"p\">&lt;/</span><span class=\"nt\">td</span><span class=\"p\">&gt;</span>\n",
       " <span class=\"p\">&lt;</span><span class=\"nt\">td</span><span class=\"p\">&gt;</span>Margaret<span class=\"p\">&lt;/</span><span class=\"nt\">td</span><span class=\"p\">&gt;</span>\n",
       "<span class=\"p\">&lt;</span><span class=\"nt\">td</span><span class=\"p\">&gt;</span>1,578<span class=\"p\">&lt;/</span><span class=\"nt\">td</span><span class=\"p\">&gt;</span>\n",
       "<span class=\"p\">&lt;/</span><span class=\"nt\">tr</span><span class=\"p\">&gt;</span>\n",
       "<span class=\"p\">&lt;</span><span class=\"nt\">tr</span> <span class=\"na\">align</span><span class=\"o\">=</span><span class=\"s\">&quot;right&quot;</span><span class=\"p\">&gt;</span>\n",
       " <span class=\"p\">&lt;</span><span class=\"nt\">td</span><span class=\"p\">&gt;</span>7<span class=\"p\">&lt;/</span><span class=\"nt\">td</span><span class=\"p\">&gt;</span> <span class=\"p\">&lt;</span><span class=\"nt\">td</span><span class=\"p\">&gt;</span>Joseph<span class=\"p\">&lt;/</span><span class=\"nt\">td</span><span class=\"p\">&gt;&lt;</span><span class=\"nt\">td</span><span class=\"p\">&gt;</span>2,632<span class=\"p\">&lt;/</span><span class=\"nt\">td</span><span class=\"p\">&gt;</span>\n",
       " <span class=\"p\">&lt;</span><span class=\"nt\">td</span><span class=\"p\">&gt;</span>Ida<span class=\"p\">&lt;/</span><span class=\"nt\">td</span><span class=\"p\">&gt;</span>\n",
       "<span class=\"p\">&lt;</span><span class=\"nt\">td</span><span class=\"p\">&gt;</span>1,472<span class=\"p\">&lt;/</span><span class=\"nt\">td</span><span class=\"p\">&gt;</span>\n",
       "<span class=\"p\">&lt;/</span><span class=\"nt\">tr</span><span class=\"p\">&gt;</span>\n",
       "<span class=\"p\">&lt;</span><span class=\"nt\">tr</span> <span class=\"na\">align</span><span class=\"o\">=</span><span class=\"s\">&quot;right&quot;</span><span class=\"p\">&gt;</span>\n",
       " <span class=\"p\">&lt;</span><span class=\"nt\">td</span><span class=\"p\">&gt;</span>8<span class=\"p\">&lt;/</span><span class=\"nt\">td</span><span class=\"p\">&gt;</span> <span class=\"p\">&lt;</span><span class=\"nt\">td</span><span class=\"p\">&gt;</span>Thomas<span class=\"p\">&lt;/</span><span class=\"nt\">td</span><span class=\"p\">&gt;&lt;</span><span class=\"nt\">td</span><span class=\"p\">&gt;</span>2,534<span class=\"p\">&lt;/</span><span class=\"nt\">td</span><span class=\"p\">&gt;</span>\n",
       " <span class=\"p\">&lt;</span><span class=\"nt\">td</span><span class=\"p\">&gt;</span>Alice<span class=\"p\">&lt;/</span><span class=\"nt\">td</span><span class=\"p\">&gt;</span>\n",
       "<span class=\"p\">&lt;</span><span class=\"nt\">td</span><span class=\"p\">&gt;</span>1,414<span class=\"p\">&lt;/</span><span class=\"nt\">td</span><span class=\"p\">&gt;</span>\n",
       "<span class=\"p\">&lt;/</span><span class=\"nt\">tr</span><span class=\"p\">&gt;</span>\n",
       "<span class=\"p\">&lt;</span><span class=\"nt\">tr</span> <span class=\"na\">align</span><span class=\"o\">=</span><span class=\"s\">&quot;right&quot;</span><span class=\"p\">&gt;</span>\n",
       " <span class=\"p\">&lt;</span><span class=\"nt\">td</span><span class=\"p\">&gt;</span>9<span class=\"p\">&lt;/</span><span class=\"nt\">td</span><span class=\"p\">&gt;</span> <span class=\"p\">&lt;</span><span class=\"nt\">td</span><span class=\"p\">&gt;</span>Henry<span class=\"p\">&lt;/</span><span class=\"nt\">td</span><span class=\"p\">&gt;&lt;</span><span class=\"nt\">td</span><span class=\"p\">&gt;</span>2,444<span class=\"p\">&lt;/</span><span class=\"nt\">td</span><span class=\"p\">&gt;</span>\n",
       " <span class=\"p\">&lt;</span><span class=\"nt\">td</span><span class=\"p\">&gt;</span>Bertha<span class=\"p\">&lt;/</span><span class=\"nt\">td</span><span class=\"p\">&gt;</span>\n",
       "<span class=\"p\">&lt;</span><span class=\"nt\">td</span><span class=\"p\">&gt;</span>1,320<span class=\"p\">&lt;/</span><span class=\"nt\">td</span><span class=\"p\">&gt;</span>\n",
       "<span class=\"p\">&lt;/</span><span class=\"nt\">tr</span><span class=\"p\">&gt;</span>\n",
       "<span class=\"p\">&lt;</span><span class=\"nt\">tr</span> <span class=\"na\">align</span><span class=\"o\">=</span><span class=\"s\">&quot;right&quot;</span><span class=\"p\">&gt;</span>\n",
       " <span class=\"p\">&lt;</span><span class=\"nt\">td</span><span class=\"p\">&gt;</span>10<span class=\"p\">&lt;/</span><span class=\"nt\">td</span><span class=\"p\">&gt;</span> <span class=\"p\">&lt;</span><span class=\"nt\">td</span><span class=\"p\">&gt;</span>Robert<span class=\"p\">&lt;/</span><span class=\"nt\">td</span><span class=\"p\">&gt;&lt;</span><span class=\"nt\">td</span><span class=\"p\">&gt;</span>2,415<span class=\"p\">&lt;/</span><span class=\"nt\">td</span><span class=\"p\">&gt;</span>\n",
       " <span class=\"p\">&lt;</span><span class=\"nt\">td</span><span class=\"p\">&gt;</span>Sarah<span class=\"p\">&lt;/</span><span class=\"nt\">td</span><span class=\"p\">&gt;</span>\n",
       "<span class=\"p\">&lt;</span><span class=\"nt\">td</span><span class=\"p\">&gt;</span>1,288<span class=\"p\">&lt;/</span><span class=\"nt\">td</span><span class=\"p\">&gt;</span>\n",
       "<span class=\"p\">&lt;/</span><span class=\"nt\">tr</span><span class=\"p\">&gt;</span>\n",
       "<span class=\"p\">&lt;</span><span class=\"nt\">tr</span><span class=\"p\">&gt;&lt;</span><span class=\"nt\">td</span> <span class=\"na\">colspan</span><span class=\"o\">=</span><span class=\"s\">&quot;5&quot;</span><span class=\"p\">&gt;&lt;</span><span class=\"nt\">small</span><span class=\"p\">&gt;</span>Note: Rank 1 is the most popular,\n",
       "rank 2 is the next most popular, and so forth. <span class=\"p\">&lt;</span><span class=\"nt\">p</span><span class=\"p\">&gt;</span>All names are from Social Security card applications\n",
       "              for births that occurred in the United States.\n",
       "<span class=\"p\">&lt;/</span><span class=\"nt\">p</span><span class=\"p\">&gt;&lt;/</span><span class=\"nt\">small</span><span class=\"p\">&gt;&lt;/</span><span class=\"nt\">td</span><span class=\"p\">&gt;&lt;/</span><span class=\"nt\">tr</span><span class=\"p\">&gt;&lt;/</span><span class=\"nt\">tbody</span><span class=\"p\">&gt;&lt;/</span><span class=\"nt\">table</span><span class=\"p\">&gt;</span>\n",
       "</pre></div>\n"
      ],
      "text/plain": [
       "<IPython.core.display.HTML object>"
      ]
     },
     "metadata": {},
     "output_type": "display_data"
    }
   ],
   "source": [
    "names = tables[2]\n",
    "pretty(str(names), 'html')"
   ]
  },
  {
   "cell_type": "markdown",
   "metadata": {},
   "source": [
    "The table doesn't really have any useful attributes for searching by, but it does have that `caption` element in it. If that's the only caption on the page, we can use it..."
   ]
  },
  {
   "cell_type": "code",
   "execution_count": 16,
   "metadata": {
    "scrolled": true
   },
   "outputs": [
    {
     "data": {
      "text/plain": [
       "1"
      ]
     },
     "execution_count": 16,
     "metadata": {},
     "output_type": "execute_result"
    }
   ],
   "source": [
    "len(page.findAll('caption'))"
   ]
  },
  {
   "cell_type": "markdown",
   "metadata": {},
   "source": [
    "Perfect. When I write the cleaned-up code later I'll use the following to get just the table I want:"
   ]
  },
  {
   "cell_type": "code",
   "execution_count": 17,
   "metadata": {},
   "outputs": [],
   "source": [
    "names = page.find('caption').find_parent('table')"
   ]
  },
  {
   "cell_type": "markdown",
   "metadata": {},
   "source": [
    "Now let's look at the structure of the table."
   ]
  },
  {
   "cell_type": "code",
   "execution_count": 18,
   "metadata": {
    "scrolled": true
   },
   "outputs": [
    {
     "data": {
      "text/html": [
       "<div class=\"highlight\"><pre><span></span><span class=\"p\">&lt;</span><span class=\"nt\">tr</span> <span class=\"na\">align</span><span class=\"o\">=</span><span class=\"s\">&quot;center&quot;</span> <span class=\"na\">valign</span><span class=\"o\">=</span><span class=\"s\">&quot;bottom&quot;</span><span class=\"p\">&gt;</span>\n",
       "  <span class=\"p\">&lt;</span><span class=\"nt\">th</span> <span class=\"na\">bgcolor</span><span class=\"o\">=</span><span class=\"s\">&quot;#eeeeee&quot;</span> <span class=\"na\">scope</span><span class=\"o\">=</span><span class=\"s\">&quot;col&quot;</span> <span class=\"na\">width</span><span class=\"o\">=</span><span class=\"s\">&quot;12%&quot;</span><span class=\"p\">&gt;</span>Rank<span class=\"p\">&lt;/</span><span class=\"nt\">th</span><span class=\"p\">&gt;</span>\n",
       "  <span class=\"p\">&lt;</span><span class=\"nt\">th</span> <span class=\"na\">bgcolor</span><span class=\"o\">=</span><span class=\"s\">&quot;#99ccff&quot;</span> <span class=\"na\">scope</span><span class=\"o\">=</span><span class=\"s\">&quot;col&quot;</span> <span class=\"na\">width</span><span class=\"o\">=</span><span class=\"s\">&quot;22%&quot;</span><span class=\"p\">&gt;</span>Male name<span class=\"p\">&lt;/</span><span class=\"nt\">th</span><span class=\"p\">&gt;</span>\n",
       "<span class=\"p\">&lt;</span><span class=\"nt\">th</span> <span class=\"na\">bgcolor</span><span class=\"o\">=</span><span class=\"s\">&quot;#99ccff&quot;</span> <span class=\"na\">scope</span><span class=\"o\">=</span><span class=\"s\">&quot;col&quot;</span> <span class=\"na\">width</span><span class=\"o\">=</span><span class=\"s\">&quot;22%&quot;</span><span class=\"p\">&gt;</span>Number of<span class=\"p\">&lt;</span><span class=\"nt\">br</span><span class=\"p\">/&gt;</span> males<span class=\"p\">&lt;/</span><span class=\"nt\">th</span><span class=\"p\">&gt;</span>\n",
       "<span class=\"p\">&lt;</span><span class=\"nt\">th</span> <span class=\"na\">bgcolor</span><span class=\"o\">=</span><span class=\"s\">&quot;pink&quot;</span> <span class=\"na\">scope</span><span class=\"o\">=</span><span class=\"s\">&quot;col&quot;</span> <span class=\"na\">width</span><span class=\"o\">=</span><span class=\"s\">&quot;22%&quot;</span><span class=\"p\">&gt;</span>Female name<span class=\"p\">&lt;/</span><span class=\"nt\">th</span><span class=\"p\">&gt;</span>\n",
       "<span class=\"p\">&lt;</span><span class=\"nt\">th</span> <span class=\"na\">bgcolor</span><span class=\"o\">=</span><span class=\"s\">&quot;pink&quot;</span> <span class=\"na\">scope</span><span class=\"o\">=</span><span class=\"s\">&quot;col&quot;</span> <span class=\"na\">width</span><span class=\"o\">=</span><span class=\"s\">&quot;22%&quot;</span><span class=\"p\">&gt;</span>Number of<span class=\"p\">&lt;</span><span class=\"nt\">br</span><span class=\"p\">/&gt;</span> females<span class=\"p\">&lt;/</span><span class=\"nt\">th</span><span class=\"p\">&gt;&lt;/</span><span class=\"nt\">tr</span><span class=\"p\">&gt;</span>\n",
       "</pre></div>\n"
      ],
      "text/plain": [
       "<IPython.core.display.HTML object>"
      ]
     },
     "metadata": {},
     "output_type": "display_data"
    }
   ],
   "source": [
    "firstRow = names.find('tr')\n",
    "pretty(str(firstRow), 'html')"
   ]
  },
  {
   "cell_type": "code",
   "execution_count": 19,
   "metadata": {
    "scrolled": true
   },
   "outputs": [
    {
     "data": {
      "text/plain": [
       "['Rank', 'Male name', 'Number of males', 'Female name', 'Number of females']"
      ]
     },
     "execution_count": 19,
     "metadata": {},
     "output_type": "execute_result"
    }
   ],
   "source": [
    "columns = [th.text for th in firstRow.findAll('th')]\n",
    "columns"
   ]
  },
  {
   "cell_type": "markdown",
   "metadata": {},
   "source": [
    "I just learned about this next function while writing this example. Given a BeautifulSoup tag you can call `findNextSiblings` on it, giving it a tag name; this will return a list of all tags with that name at the same level. Very handy for exactly this case, where we want all the rows of the table _after_ the header row."
   ]
  },
  {
   "cell_type": "code",
   "execution_count": 20,
   "metadata": {},
   "outputs": [
    {
     "data": {
      "text/plain": [
       "<tr align=\"right\">\n",
       " <td>1</td> <td>John</td><td>9,655</td>\n",
       " <td>Mary</td>\n",
       "<td>7,065</td>\n",
       "</tr>"
      ]
     },
     "execution_count": 20,
     "metadata": {},
     "output_type": "execute_result"
    }
   ],
   "source": [
    "rows = firstRow.findNextSiblings('tr')\n",
    "rows[0]"
   ]
  },
  {
   "cell_type": "markdown",
   "metadata": {},
   "source": [
    "A small helper function to extract data from the row and clean it up:"
   ]
  },
  {
   "cell_type": "code",
   "execution_count": 21,
   "metadata": {},
   "outputs": [
    {
     "data": {
      "text/plain": [
       "['1', 'John', '9655', 'Mary', '7065']"
      ]
     },
     "execution_count": 21,
     "metadata": {},
     "output_type": "execute_result"
    }
   ],
   "source": [
    "def getValues(tr):\n",
    "    return [td.text.replace(',', '') for td in tr.findAll('td')]\n",
    "\n",
    "getValues(rows[0])"
   ]
  },
  {
   "cell_type": "markdown",
   "metadata": {},
   "source": [
    "Then we merge the data with the headers to make a usable dictionary:"
   ]
  },
  {
   "cell_type": "code",
   "execution_count": 22,
   "metadata": {},
   "outputs": [
    {
     "data": {
      "text/plain": [
       "{'Female name': 'Mary',\n",
       " 'Male name': 'John',\n",
       " 'Number of females': '7065',\n",
       " 'Number of males': '9655',\n",
       " 'Rank': '1'}"
      ]
     },
     "execution_count": 22,
     "metadata": {},
     "output_type": "execute_result"
    }
   ],
   "source": [
    "dict(zip(columns, getValues(rows[0])))"
   ]
  },
  {
   "cell_type": "code",
   "execution_count": 23,
   "metadata": {},
   "outputs": [
    {
     "data": {
      "text/plain": [
       "11"
      ]
     },
     "execution_count": 23,
     "metadata": {},
     "output_type": "execute_result"
    }
   ],
   "source": [
    "data = [dict(zip(columns, getValues(row))) for row in rows]\n",
    "len(data)"
   ]
  },
  {
   "cell_type": "markdown",
   "metadata": {},
   "source": [
    "We're expecting 10 rows, so there must be a footer."
   ]
  },
  {
   "cell_type": "code",
   "execution_count": 24,
   "metadata": {},
   "outputs": [
    {
     "data": {
      "text/plain": [
       "{'Rank': 'Note: Rank 1 is the most popular\\nrank 2 is the next most popular and so forth. All names are from Social Security card applications\\n              for births that occurred in the United States.\\n'}"
      ]
     },
     "execution_count": 24,
     "metadata": {},
     "output_type": "execute_result"
    }
   ],
   "source": [
    "data[-1]"
   ]
  },
  {
   "cell_type": "markdown",
   "metadata": {},
   "source": [
    "Good to know, but it's not data."
   ]
  },
  {
   "cell_type": "code",
   "execution_count": 25,
   "metadata": {},
   "outputs": [
    {
     "data": {
      "text/plain": [
       "{'Rank': 'Note: Rank 1 is the most popular\\nrank 2 is the next most popular and so forth. All names are from Social Security card applications\\n              for births that occurred in the United States.\\n'}"
      ]
     },
     "execution_count": 25,
     "metadata": {},
     "output_type": "execute_result"
    }
   ],
   "source": [
    "data.pop(-1)"
   ]
  },
  {
   "cell_type": "code",
   "execution_count": 26,
   "metadata": {},
   "outputs": [
    {
     "data": {
      "text/plain": [
       "10"
      ]
     },
     "execution_count": 26,
     "metadata": {},
     "output_type": "execute_result"
    }
   ],
   "source": [
    "len(data)"
   ]
  },
  {
   "cell_type": "code",
   "execution_count": 27,
   "metadata": {},
   "outputs": [
    {
     "data": {
      "text/plain": [
       "{'Female name': 'Alice',\n",
       " 'Male name': 'Thomas',\n",
       " 'Number of females': '1414',\n",
       " 'Number of males': '2534',\n",
       " 'Rank': '8'}"
      ]
     },
     "execution_count": 27,
     "metadata": {},
     "output_type": "execute_result"
    }
   ],
   "source": [
    "data[7]"
   ]
  },
  {
   "cell_type": "markdown",
   "metadata": {},
   "source": [
    "And that's it! All the code we need is pretty much here. I cleaned it up a bit and put together a [social security popular names scraper](https://github.com/njvrzm/zeroth/blob/master/zeroth/namesss/namesss.py)."
   ]
  }
 ],
 "metadata": {
  "kernelspec": {
   "display_name": "Python 3",
   "language": "python",
   "name": "python3"
  },
  "language_info": {
   "codemirror_mode": {
    "name": "ipython",
    "version": 3
   },
   "file_extension": ".py",
   "mimetype": "text/x-python",
   "name": "python",
   "nbconvert_exporter": "python",
   "pygments_lexer": "ipython3",
   "version": "3.6.3"
  }
 },
 "nbformat": 4,
 "nbformat_minor": 2
}

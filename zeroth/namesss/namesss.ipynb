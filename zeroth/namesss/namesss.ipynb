{
 "cells": [
  {
   "cell_type": "code",
   "execution_count": 2,
   "metadata": {},
   "outputs": [],
   "source": [
    "import requests"
   ]
  },
  {
   "cell_type": "code",
   "execution_count": 16,
   "metadata": {},
   "outputs": [],
   "source": [
    "baseUrl = 'https://www.ssa.gov/OACT/babynames/index.html'"
   ]
  },
  {
   "cell_type": "code",
   "execution_count": 3,
   "metadata": {},
   "outputs": [],
   "source": [
    "s = requests.session()"
   ]
  },
  {
   "cell_type": "code",
   "execution_count": 5,
   "metadata": {},
   "outputs": [],
   "source": [
    "r = s.get(baseUrl)"
   ]
  },
  {
   "cell_type": "code",
   "execution_count": 7,
   "metadata": {},
   "outputs": [],
   "source": [
    "from bs4 import BeautifulSoup\n",
    "soup = BeautifulSoup(r.text, 'html5lib')"
   ]
  },
  {
   "cell_type": "code",
   "execution_count": 28,
   "metadata": {},
   "outputs": [
    {
     "data": {
      "text/plain": [
       "<form action=\"/cgi-bin/popularnames.cgi\" method=\"post\" name=\"popnames\" onsubmit=\"return submitIt();\">\n",
       "                <p>\n",
       "                  <input id=\"year\" maxlength=\"4\" name=\"year\" pattern=\"\\d{4}\" required=\"\" size=\"5\" style=\"width:100px\" title=\"Birth Year: Must be 4 numbers\" type=\"text\" value=\"2016\"/>\n",
       "                  <label for=\"year\" style=\"display:inline;\">  Birth Year</label><br/>\n",
       "                </p>\n",
       "                <p>\n",
       "                  <select id=\"rank\" name=\"top\" size=\"1\" style=\"width:100px\">\n",
       "                    <option value=\"20\">Top 20</option>\n",
       "                    <option value=\"50\">Top 50</option>\n",
       "                    <option value=\"100\">Top 100</option>\n",
       "                    <option value=\"500\">Top 500</option>\n",
       "                    <option value=\"1000\">Top 1000</option>\n",
       "                  </select>\n",
       "                  <label for=\"rank\" style=\"display:inline;\">  Popularity</label><br/>\n",
       "                </p>\n",
       "                <fieldset>\n",
       "                  <legend>Name rankings may include:</legend>\n",
       "                  <input id=\"percent\" name=\"number\" type=\"radio\" value=\"p\"/>\n",
       "                  <label for=\"percent\" style=\"display:inline;\">  Percent of total births</label><br/>\n",
       "                  <input id=\"number\" name=\"number\" type=\"radio\" value=\"n\"/>\n",
       "                  <label for=\"number\" style=\"display:inline;\">  Number of births</label>\n",
       "                </fieldset>\n",
       "                <p>\n",
       "                  <input type=\"submit\" value=\"  Go  \"/>\n",
       "                  <input type=\"reset\" value=\"Reset\"/>\n",
       "                </p>\n",
       "              </form>"
      ]
     },
     "execution_count": 28,
     "metadata": {},
     "output_type": "execute_result"
    }
   ],
   "source": [
    "form = soup.find('form')\n",
    "form"
   ]
  },
  {
   "cell_type": "code",
   "execution_count": null,
   "metadata": {},
   "outputs": [],
   "source": []
  },
  {
   "cell_type": "markdown",
   "metadata": {},
   "source": [
    "Here I notice that the form has a javascript submitter, so I want to check if that does anything important before going on."
   ]
  },
  {
   "cell_type": "code",
   "execution_count": 10,
   "metadata": {},
   "outputs": [
    {
     "data": {
      "text/plain": [
       "[<script src=\"/framework/js/ssa.internet.head.js\"></script>,\n",
       " <script src=\"chkinput.js\"></script>,\n",
       " <script src=\"/framework/js/ssa.internet.body.js\"></script>]"
      ]
     },
     "execution_count": 10,
     "metadata": {},
     "output_type": "execute_result"
    }
   ],
   "source": [
    "scripts = soup.findAll('script')\n",
    "scripts"
   ]
  },
  {
   "cell_type": "markdown",
   "metadata": {},
   "source": [
    "\"chkinput.js\" sounds promising..."
   ]
  },
  {
   "cell_type": "code",
   "execution_count": 38,
   "metadata": {},
   "outputs": [
    {
     "data": {
      "text/plain": [
       "'https://www.ssa.gov/OACT/babynames/chkinput.js'"
      ]
     },
     "execution_count": 38,
     "metadata": {},
     "output_type": "execute_result"
    }
   ],
   "source": [
    "import urllib\n",
    "urllib.parse.urljoin(baseUrl, scripts[1]['src'])"
   ]
  },
  {
   "cell_type": "code",
   "execution_count": 39,
   "metadata": {},
   "outputs": [
    {
     "name": "stdout",
     "output_type": "stream",
     "text": [
      "// submitIt used by form for top N names and tests for valid year\n",
      "function submitIt() {\n",
      " if(IsNum(document.popnames.year.value)) {\n",
      "   alert(\"Use numeric characters only!\")\n",
      "   document.popnames.year.focus()\n",
      "   document.popnames.year.select()\n",
      "   return false\n",
      " } \n",
      "}\n",
      "\n",
      "// submitBaby used by form for a given baby name and\n",
      "// test for valid name & valid number of years\n",
      "function submitBaby() {\n",
      " if(IsNum(document.babyname.nyrs.value)) {\n",
      "   alert(\"Use numeric characters only!\")\n",
      "   document.babyname.nyrs.focus()\n",
      "   document.babyname.nyrs.select()\n",
      "   return false\n",
      " }\n",
      " \n",
      " if(IsName(document.babyname.name.value)) {\n",
      "   alert(\"Use alphabetic characters only!\")\n",
      "   document.babyname.name.focus()\n",
      "   document.babyname.name.select()\n",
      "   return false\n",
      " }  \n",
      "}\n",
      "\n",
      "function IsNum(u) {\n",
      "// var num is set as non-digit\n",
      "   var num = /\\D/;\n",
      "   return num.test(u);\n",
      "}\n",
      "\n",
      "function IsName(u) {\n",
      "// var alpha is set as non-alphanumeric\n",
      "   var alpha = /\\W/;\n",
      "   return alpha.test(u);\n",
      "}\n",
      "\n"
     ]
    }
   ],
   "source": [
    "print(s.get(_).text)"
   ]
  },
  {
   "cell_type": "markdown",
   "metadata": {},
   "source": [
    "(Note to self: would love to figure out how to make the above highlighted)"
   ]
  },
  {
   "cell_type": "markdown",
   "metadata": {},
   "source": [
    "Ok, `submitIt` just does validation. We can ignore that. So, back to the form:"
   ]
  },
  {
   "cell_type": "code",
   "execution_count": 29,
   "metadata": {
    "scrolled": false
   },
   "outputs": [
    {
     "data": {
      "text/plain": [
       "<form action=\"/cgi-bin/popularnames.cgi\" method=\"post\" name=\"popnames\" onsubmit=\"return submitIt();\">\n",
       "                <p>\n",
       "                  <input id=\"year\" maxlength=\"4\" name=\"year\" pattern=\"\\d{4}\" required=\"\" size=\"5\" style=\"width:100px\" title=\"Birth Year: Must be 4 numbers\" type=\"text\" value=\"2016\"/>\n",
       "                  <label for=\"year\" style=\"display:inline;\">  Birth Year</label><br/>\n",
       "                </p>\n",
       "                <p>\n",
       "                  <select id=\"rank\" name=\"top\" size=\"1\" style=\"width:100px\">\n",
       "                    <option value=\"20\">Top 20</option>\n",
       "                    <option value=\"50\">Top 50</option>\n",
       "                    <option value=\"100\">Top 100</option>\n",
       "                    <option value=\"500\">Top 500</option>\n",
       "                    <option value=\"1000\">Top 1000</option>\n",
       "                  </select>\n",
       "                  <label for=\"rank\" style=\"display:inline;\">  Popularity</label><br/>\n",
       "                </p>\n",
       "                <fieldset>\n",
       "                  <legend>Name rankings may include:</legend>\n",
       "                  <input id=\"percent\" name=\"number\" type=\"radio\" value=\"p\"/>\n",
       "                  <label for=\"percent\" style=\"display:inline;\">  Percent of total births</label><br/>\n",
       "                  <input id=\"number\" name=\"number\" type=\"radio\" value=\"n\"/>\n",
       "                  <label for=\"number\" style=\"display:inline;\">  Number of births</label>\n",
       "                </fieldset>\n",
       "                <p>\n",
       "                  <input type=\"submit\" value=\"  Go  \"/>\n",
       "                  <input type=\"reset\" value=\"Reset\"/>\n",
       "                </p>\n",
       "              </form>"
      ]
     },
     "execution_count": 29,
     "metadata": {},
     "output_type": "execute_result"
    }
   ],
   "source": [
    "form"
   ]
  },
  {
   "cell_type": "code",
   "execution_count": 36,
   "metadata": {
    "scrolled": true
   },
   "outputs": [
    {
     "name": "stdout",
     "output_type": "stream",
     "text": [
      "https://www.ssa.gov/cgi-bin/popularnames.cgi\n"
     ]
    }
   ],
   "source": [
    "action = urllib.parse.urljoin(baseUrl, form['action'])\n",
    "print(action)"
   ]
  },
  {
   "cell_type": "code",
   "execution_count": 46,
   "metadata": {},
   "outputs": [
    {
     "data": {
      "text/plain": [
       "[<input id=\"year\" maxlength=\"4\" name=\"year\" pattern=\"\\d{4}\" required=\"\" size=\"5\" style=\"width:100px\" title=\"Birth Year: Must be 4 numbers\" type=\"text\" value=\"2016\"/>,\n",
       " <input id=\"percent\" name=\"number\" type=\"radio\" value=\"p\"/>,\n",
       " <input id=\"number\" name=\"number\" type=\"radio\" value=\"n\"/>,\n",
       " <input type=\"submit\" value=\"  Go  \"/>,\n",
       " <input type=\"reset\" value=\"Reset\"/>]"
      ]
     },
     "execution_count": 46,
     "metadata": {},
     "output_type": "execute_result"
    }
   ],
   "source": [
    "form.findAll('input')"
   ]
  },
  {
   "cell_type": "code",
   "execution_count": 47,
   "metadata": {},
   "outputs": [
    {
     "data": {
      "text/plain": [
       "[<select id=\"rank\" name=\"top\" size=\"1\" style=\"width:100px\">\n",
       "                     <option value=\"20\">Top 20</option>\n",
       "                     <option value=\"50\">Top 50</option>\n",
       "                     <option value=\"100\">Top 100</option>\n",
       "                     <option value=\"500\">Top 500</option>\n",
       "                     <option value=\"1000\">Top 1000</option>\n",
       "                   </select>]"
      ]
     },
     "execution_count": 47,
     "metadata": {},
     "output_type": "execute_result"
    }
   ],
   "source": [
    "form.findAll('select')"
   ]
  },
  {
   "cell_type": "code",
   "execution_count": 49,
   "metadata": {},
   "outputs": [],
   "source": [
    "postData = {'year': 1880, 'number': 'n', 'top': 1000}\n",
    "result = s.post(action, data = postData)\n",
    "page = BeautifulSoup(result.text, 'html5lib')"
   ]
  },
  {
   "cell_type": "code",
   "execution_count": 50,
   "metadata": {},
   "outputs": [],
   "source": [
    "tables = page.findAll('table')"
   ]
  },
  {
   "cell_type": "code",
   "execution_count": 51,
   "metadata": {},
   "outputs": [
    {
     "data": {
      "text/plain": [
       "4"
      ]
     },
     "execution_count": 51,
     "metadata": {},
     "output_type": "execute_result"
    }
   ],
   "source": [
    "len(tables)"
   ]
  },
  {
   "cell_type": "code",
   "execution_count": 54,
   "metadata": {},
   "outputs": [
    {
     "data": {
      "text/plain": [
       "[(0, 357), (1, 95105), (2, 94303), (3, 499)]"
      ]
     },
     "execution_count": 54,
     "metadata": {},
     "output_type": "execute_result"
    }
   ],
   "source": [
    "[(i, len(str(t))) for i, t in enumerate(tables)]"
   ]
  },
  {
   "cell_type": "code",
   "execution_count": 56,
   "metadata": {
    "scrolled": true
   },
   "outputs": [],
   "source": [
    "names = tables[2]"
   ]
  },
  {
   "cell_type": "code",
   "execution_count": 59,
   "metadata": {},
   "outputs": [
    {
     "data": {
      "text/plain": [
       "<tr align=\"center\" valign=\"bottom\">\n",
       "  <th bgcolor=\"#eeeeee\" scope=\"col\" width=\"12%\">Rank</th>\n",
       "  <th bgcolor=\"#99ccff\" scope=\"col\" width=\"22%\">Male name</th>\n",
       "<th bgcolor=\"#99ccff\" scope=\"col\" width=\"22%\">Number of<br/> males</th>\n",
       "<th bgcolor=\"pink\" scope=\"col\" width=\"22%\">Female name</th>\n",
       "<th bgcolor=\"pink\" scope=\"col\" width=\"22%\">Number of<br/> females</th></tr>"
      ]
     },
     "execution_count": 59,
     "metadata": {},
     "output_type": "execute_result"
    }
   ],
   "source": [
    "firstRow = names.find('tr')\n",
    "firstRow"
   ]
  },
  {
   "cell_type": "code",
   "execution_count": 61,
   "metadata": {},
   "outputs": [
    {
     "data": {
      "text/plain": [
       "['Rank', 'Male name', 'Number of males', 'Female name', 'Number of females']"
      ]
     },
     "execution_count": 61,
     "metadata": {},
     "output_type": "execute_result"
    }
   ],
   "source": [
    "columns = [th.text for th in firstRow.findAll('th')]\n",
    "columns"
   ]
  },
  {
   "cell_type": "code",
   "execution_count": 62,
   "metadata": {},
   "outputs": [
    {
     "data": {
      "text/plain": [
       "[<tr align=\"right\">\n",
       "  <td>1</td> <td>John</td><td>9,655</td>\n",
       "  <td>Mary</td>\n",
       " <td>7,065</td>\n",
       " </tr>, <tr align=\"right\">\n",
       "  <td>2</td> <td>William</td><td>9,532</td>\n",
       "  <td>Anna</td>\n",
       " <td>2,604</td>\n",
       " </tr>, <tr align=\"right\">\n",
       "  <td>3</td> <td>James</td><td>5,927</td>\n",
       "  <td>Emma</td>\n",
       " <td>2,003</td>\n",
       " </tr>, <tr align=\"right\">\n",
       "  <td>4</td> <td>Charles</td><td>5,348</td>\n",
       "  <td>Elizabeth</td>\n",
       " <td>1,939</td>\n",
       " </tr>, <tr align=\"right\">\n",
       "  <td>5</td> <td>George</td><td>5,126</td>\n",
       "  <td>Minnie</td>\n",
       " <td>1,746</td>\n",
       " </tr>]"
      ]
     },
     "execution_count": 62,
     "metadata": {},
     "output_type": "execute_result"
    }
   ],
   "source": [
    "rows = firstRow.findNextSiblings('tr')\n",
    "rows[:5]"
   ]
  },
  {
   "cell_type": "code",
   "execution_count": 63,
   "metadata": {},
   "outputs": [],
   "source": [
    "def getValues(tr):\n",
    "    return [td.text.replace(',', '') for td in tr.findAll('td')]"
   ]
  },
  {
   "cell_type": "code",
   "execution_count": 64,
   "metadata": {},
   "outputs": [
    {
     "data": {
      "text/plain": [
       "['1', 'John', '9655', 'Mary', '7065']"
      ]
     },
     "execution_count": 64,
     "metadata": {},
     "output_type": "execute_result"
    }
   ],
   "source": [
    "getValues(rows[0])"
   ]
  },
  {
   "cell_type": "code",
   "execution_count": 65,
   "metadata": {},
   "outputs": [],
   "source": [
    "data = [dict(zip(columns, getValues(row))) for row in rows]"
   ]
  },
  {
   "cell_type": "code",
   "execution_count": 66,
   "metadata": {},
   "outputs": [
    {
     "data": {
      "text/plain": [
       "{'Female name': 'Mary',\n",
       " 'Male name': 'John',\n",
       " 'Number of females': '7065',\n",
       " 'Number of males': '9655',\n",
       " 'Rank': '1'}"
      ]
     },
     "execution_count": 66,
     "metadata": {},
     "output_type": "execute_result"
    }
   ],
   "source": [
    "data[0]"
   ]
  },
  {
   "cell_type": "code",
   "execution_count": 67,
   "metadata": {},
   "outputs": [
    {
     "data": {
      "text/plain": [
       "{'Rank': 'Note: Rank 1 is the most popular\\nrank 2 is the next most popular and so forth. All names are from Social Security card applications\\n              for births that occurred in the United States.\\n'}"
      ]
     },
     "execution_count": 67,
     "metadata": {},
     "output_type": "execute_result"
    }
   ],
   "source": [
    "data[-1]"
   ]
  },
  {
   "cell_type": "code",
   "execution_count": 68,
   "metadata": {},
   "outputs": [
    {
     "data": {
      "text/plain": [
       "{'Female name': '',\n",
       " 'Male name': 'Layton',\n",
       " 'Number of females': '0',\n",
       " 'Number of males': '5',\n",
       " 'Rank': '1000'}"
      ]
     },
     "execution_count": 68,
     "metadata": {},
     "output_type": "execute_result"
    }
   ],
   "source": [
    "data[-2]"
   ]
  },
  {
   "cell_type": "code",
   "execution_count": null,
   "metadata": {},
   "outputs": [],
   "source": []
  },
  {
   "cell_type": "code",
   "execution_count": null,
   "metadata": {},
   "outputs": [],
   "source": []
  },
  {
   "cell_type": "code",
   "execution_count": null,
   "metadata": {},
   "outputs": [],
   "source": []
  },
  {
   "cell_type": "code",
   "execution_count": null,
   "metadata": {},
   "outputs": [],
   "source": []
  },
  {
   "cell_type": "code",
   "execution_count": null,
   "metadata": {},
   "outputs": [],
   "source": []
  },
  {
   "cell_type": "code",
   "execution_count": null,
   "metadata": {},
   "outputs": [],
   "source": []
  },
  {
   "cell_type": "code",
   "execution_count": null,
   "metadata": {},
   "outputs": [],
   "source": []
  }
 ],
 "metadata": {
  "kernelspec": {
   "display_name": "Python 3",
   "language": "python",
   "name": "python3"
  },
  "language_info": {
   "codemirror_mode": {
    "name": "ipython",
    "version": 3
   },
   "file_extension": ".py",
   "mimetype": "text/x-python",
   "name": "python",
   "nbconvert_exporter": "python",
   "pygments_lexer": "ipython3",
   "version": "3.6.3"
  }
 },
 "nbformat": 4,
 "nbformat_minor": 2
}
